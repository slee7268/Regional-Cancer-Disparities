{
 "cells": [
  {
   "cell_type": "code",
   "execution_count": 68,
   "metadata": {
    "collapsed": false
   },
   "outputs": [
    {
     "name": "stderr",
     "output_type": "stream",
     "text": [
      "C:\\Users\\slee7268\\Anaconda3\\lib\\site-packages\\IPython\\core\\interactiveshell.py:2717: DtypeWarning: Columns (7,19,20,21,22,26,27,30,31,32,33) have mixed types. Specify dtype option on import or set low_memory=False.\n",
      "  interactivity=interactivity, compiler=compiler, result=result)\n",
      "C:\\Users\\slee7268\\Anaconda3\\lib\\site-packages\\numpy\\core\\_methods.py:82: RuntimeWarning: Degrees of freedom <= 0 for slice\n",
      "  warnings.warn(\"Degrees of freedom <= 0 for slice\", RuntimeWarning)\n"
     ]
    },
    {
     "data": {
      "text/plain": [
       "Ttest_indResult(statistic=1.0619770971671088, pvalue=0.29976542190191302)"
      ]
     },
     "execution_count": 68,
     "metadata": {},
     "output_type": "execute_result"
    }
   ],
   "source": [
    "import pandas as pd\n",
    "%matplotlib inline\n",
    "import matplotlib.pyplot as plt\n",
    "from scipy import stats\n",
    "\n",
    "data = pd.read_csv('U.S._Chronic_Disease_Indicators__CDI_.csv')\n",
    "CancerData = data[data.Topic == 'Cancer']\n",
    "#separated by region\n",
    "SeCancer = CancerData[CancerData.LocationAbbr.isin(['NC', 'GA', 'FL', 'MD', 'SC', 'VA', 'WA', 'DC', 'DE', 'AL', 'KY', 'MS', 'TN', 'AR', 'LA', 'OK', 'TX'])]\n",
    "NeCancer = CancerData[CancerData.LocationAbbr.isin(['CT', 'ME', 'MA', 'NH', 'RI', 'VT', 'NY', 'NJ', 'PA'])]\n",
    "MwCancer = CancerData[CancerData.LocationAbbr.isin(['IL', 'IN', 'MI', 'OH', 'WI', 'IA', 'KS', 'MN', 'MO', 'NE', 'ND', 'SD'])]\n",
    "WCancer = CancerData[CancerData.LocationAbbr.isin(['AZ', 'CO', 'ID', 'MT', 'NV', 'NM', 'UT', 'WY', 'AK', 'CA', 'HI', 'OR', 'WA'])]\n",
    "\n",
    "SeInvasiveCancer = SeCancer[(SeCancer.Question == 'Invasive cancer (all sites combined), mortality') & (SeCancer.StratificationCategory1 == 'Overall') & (SeCancer.DataValueType == 'Average Annual Crude Rate')]\n",
    "NeInvasiveCancer = NeCancer[(NeCancer.Question == 'Invasive cancer (all sites combined), mortality') & (NeCancer.StratificationCategory1 == 'Overall') & (NeCancer.DataValueType == 'Average Annual Crude Rate')]\n",
    "MwInvasiveCancer = MwCancer[(MwCancer.Question == 'Invasive cancer (all sites combined), mortality') & (MwCancer.StratificationCategory1 == 'Overall') & (MwCancer.DataValueType == 'Average Annual Crude Rate')]\n",
    "WInvasiveCancer = WCancer[(WCancer.Question == 'Invasive cancer (all sites combined), mortality') & (WCancer.StratificationCategory1 == 'Overall') & (WCancer.DataValueType == 'Average Annual Crude Rate')]\n",
    "InvasiveCancer = CancerData[(CancerData.Question == 'Invasive cancer (all sites combined), mortality') & (CancerData.StratificationCategory1 == 'Overall') & (CancerData.DataValueType == 'Average Annual Crude Rate')]\n",
    "\n",
    "#SeInvasiveCancer.boxplot(column='DataValueAlt')\n",
    "#NeInvasiveCancer.boxplot(column='DataValueAlt')\n",
    "#MwInvasiveCancer.boxplot(column='DataValueAlt')\n",
    "#WInvasiveCancer.boxplot(column='DataValueAlt')\n",
    "#InvasiveCancer.boxplot(column= 'DataValueAlt')\n",
    "\n",
    "#Percentage of women aged 50-74 years who use Mammographies\n",
    "\n",
    "SeMamm = SeCancer[(SeCancer.Question == 'Mammography use among women aged 50-74 years') & (SeCancer.StratificationCategory1 == 'Overall') & (SeCancer.DataValueType == 'Crude Prevalence')]\n",
    "NeMamm = NeCancer[(NeCancer.Question == 'Mammography use among women aged 50-74 years') & (NeCancer.StratificationCategory1 == 'Overall') & (NeCancer.DataValueType == 'Crude Prevalence')]\n",
    "MwMamm = MwCancer[(MwCancer.Question == 'Mammography use among women aged 50-74 years') & (MwCancer.StratificationCategory1 == 'Overall') & (MwCancer.DataValueType == 'Crude Prevalence')]\n",
    "WMamm = WCancer[(WCancer.Question == 'Mammography use among women aged 50-74 years') & (WCancer.StratificationCategory1 == 'Overall') & (WCancer.DataValueType == 'Crude Prevalence')]\n",
    "USAMamm = CancerData[(CancerData.Question == 'Mammography use among women aged 50-74 years') & (CancerData.StratificationCategory1 == 'Overall') & (CancerData.DataValueType == 'Crude Prevalence')]\n",
    "\n",
    "avgMammSe = SeMamm['DataValueAlt'].mean() \n",
    "avgMammNe = NeMamm['DataValueAlt'].mean()\n",
    "avgMammMw = MwMamm['DataValueAlt'].mean()\n",
    "avgMammW = WMamm['DataValueAlt'].mean()\n",
    "avgUSAMamm = USAMamm['DataValueAlt'].mean()\n",
    "\n",
    "#USAMamm.boxplot(column='DataValueAlt')\n",
    "#SeMamm.boxplot(column='DataValueAlt')\n",
    "#MwMamm.boxplot(column='DataValueAlt')\n",
    "#WMamm.boxplot(column='DataValueAlt')\n",
    "\n",
    "SeMammRace = SeCancer[(SeCancer.Question == 'Mammography use among women aged 50-74 years') & (SeCancer.StratificationCategory1 == 'Race/Ethnicity') & (SeCancer.DataValueType == 'Crude Prevalence')]\n",
    "SeMammBlack = SeMammRace[(SeMammRace.Stratification1 == 'Black, non-Hispanic')]\n",
    "SeMammHispanic = SeMammRace[(SeMammRace.Stratification1 == 'Hispanic')]\n",
    "SeMammWhite = SeMammRace[(SeMammRace.Stratification1 == 'White, non-Hispanic')]\n",
    "SeMammMulti = SeMammRace[(SeMammRace.Stratification1 == 'Multiracial, non-Hispanic')]\n",
    "SeMammOther = SeMammRace[(SeMammRace.Stratification1 == 'Other, non-Hispanic')]\n",
    "\n",
    "#SeMammBlack.boxplot(column='DataValueAlt')\n",
    "#SeMammHispanic.boxplot(column='DataValueAlt')\n",
    "#SeMammWhite.boxplot(column='DataValueAlt')\n",
    "#SeMammMulti.boxplot(column='DataValueAlt')\n",
    "#SeMammOther.boxplot(column= 'DataValueAlt')\n",
    "\n",
    "stats.ttest_ind(SeMammBlack['DataValueAlt'].dropna(), SeMammWhite['DataValueAlt'].dropna())\n",
    "stats.ttest_ind(SeMammHispanic['DataValueAlt'].dropna(), SeMammWhite['DataValueAlt'].dropna())\n",
    "stats.ttest_ind(SeMammMulti['DataValueAlt'].dropna(), SeMammWhite['DataValueAlt'].dropna())\n",
    "stats.ttest_ind(SeMammOther['DataValueAlt'].dropna(), SeMammWhite['DataValueAlt'].dropna())\n",
    "\n",
    "NeMammRace = NeCancer[(NeCancer.Question == 'Mammography use among women aged 50-74 years') & (NeCancer.StratificationCategory1 == 'Race/Ethnicity') & (NeCancer.DataValueType == 'Crude Prevalence')]\n",
    "NeMammBlack = NeMammRace[(NeMammRace.Stratification1 == 'Black, non-Hispanic')]\n",
    "NeMammHispanic = NeMammRace[(NeMammRace.Stratification1 == 'Hispanic')]\n",
    "NeMammWhite = NeMammRace[(NeMammRace.Stratification1 == 'White, non-Hispanic')]\n",
    "NeMammMulti = NeMammRace[(NeMammRace.Stratification1 == 'Multiracial, non-Hispanic')]\n",
    "NeMammOther = NeMammRace[(NeMammRace.Stratification1 == 'Other, non-Hispanic')]\n",
    "\n",
    "#NeMammBlack.boxplot(column = 'DataValueAlt')\n",
    "#NeMammHispanic.boxplot(column = 'DataValueAlt')\n",
    "#NeMammWhite.boxplot(column = 'DataValueAlt')\n",
    "#NeMammMulti.boxplot(column = 'DataValueAlt')\n",
    "#NeMammOther.boxplot(column = 'DataValueAlt')\n",
    "\n",
    "stats.ttest_ind(NeMammBlack['DataValueAlt'].dropna(), NeMammWhite['DataValueAlt'].dropna())\n",
    "stats.ttest_ind(NeMammHispanic['DataValueAlt'].dropna(), NeMammWhite['DataValueAlt'].dropna())\n",
    "stats.ttest_ind(NeMammMulti['DataValueAlt'].dropna(), NeMammWhite['DataValueAlt'].dropna())\n",
    "stats.ttest_ind(NeMammOther['DataValueAlt'].dropna(), NeMammWhite['DataValueAlt'].dropna())\n",
    "\n",
    "MwMammRace = MwCancer[(MwCancer.Question == 'Mammography use among women aged 50-74 years') & (MwCancer.StratificationCategory1 == 'Race/Ethnicity') & (MwCancer.DataValueType == 'Crude Prevalence')]\n",
    "MwMammBlack = MwMammRace[(MwMammRace.Stratification1 == 'Black, non-Hispanic')]\n",
    "MwMammHispanic = MwMammRace[(MwMammRace.Stratification1 == 'Hispanic')]\n",
    "MwMammWhite = MwMammRace[(MwMammRace.Stratification1 == 'White, non-Hispanic')]\n",
    "MwMammMulti = MwMammRace[(MwMammRace.Stratification1 == 'Multiracial, non-Hispanic')]\n",
    "MwMammOther = MwMammRace[(MwMammRace.Stratification1 == 'Other, non-Hispanic')]\n",
    "\n",
    "#MwMammBlack.boxplot(column='DataValueAlt')\n",
    "#MwMammHispanic.boxplot(column='DataValueAlt')\n",
    "#MwMammWhite.boxplot(column='DataValueAlt')\n",
    "#MwMammMulti.boxplot(column='DataValueAlt')\n",
    "#MwMammOther.boxplot(column= 'DataValueAlt')\n",
    "\n",
    "stats.ttest_ind(MwMammBlack['DataValueAlt'].dropna(), MwMammWhite['DataValueAlt'].dropna())\n",
    "stats.ttest_ind(MwMammHispanic['DataValueAlt'].dropna(), MwMammWhite['DataValueAlt'].dropna())\n",
    "stats.ttest_ind(MwMammMulti['DataValueAlt'].dropna(), MwMammWhite['DataValueAlt'].dropna())\n",
    "stats.ttest_ind(MwMammOther['DataValueAlt'].dropna(), MwMammWhite['DataValueAlt'].dropna())\n",
    "\n",
    "WMammRace = WCancer[(WCancer.Question == 'Mammography use among women aged 50-74 years') & (WCancer.StratificationCategory1 == 'Race/Ethnicity') & (WCancer.DataValueType == 'Crude Prevalence')]\n",
    "WMammBlack = WMammRace[(WMammRace.Stratification1 == 'Black, non-Hispanic')]\n",
    "WMammHispanic = WMammRace[(WMammRace.Stratification1 == 'Hispanic')]\n",
    "WMammWhite = WMammRace[(WMammRace.Stratification1 == 'White, non-Hispanic')]\n",
    "WMammMulti = WMammRace[(WMammRace.Stratification1 == 'Multiracial, non-Hispanic')]\n",
    "WMammOther = WMammRace[(WMammRace.Stratification1 == 'Other, non-Hispanic')]\n",
    "\n",
    "#WMammBlack.boxplot(column='DataValueAlt')\n",
    "#WMammHispanic.boxplot(column='DataValueAlt')\n",
    "#WMammWhite.boxplot(column='DataValueAlt')\n",
    "#WMammMulti.boxplot(column='DataValueAlt')\n",
    "#WMammOther.boxplot(column= 'DataValueAlt')\n",
    "\n",
    "stats.ttest_ind(WMammBlack['DataValueAlt'].dropna(), WMammWhite['DataValueAlt'].dropna())\n",
    "stats.ttest_ind(WMammHispanic['DataValueAlt'].dropna(), WMammWhite['DataValueAlt'].dropna())\n",
    "stats.ttest_ind(WMammMulti['DataValueAlt'].dropna(), WMammWhite['DataValueAlt'].dropna())\n",
    "stats.ttest_ind(WMammOther['DataValueAlt'].dropna(), WMammWhite['DataValueAlt'].dropna())\n",
    "\n"
   ]
  },
  {
   "cell_type": "code",
   "execution_count": 36,
   "metadata": {
    "collapsed": false,
    "scrolled": true
   },
   "outputs": [
    {
     "name": "stderr",
     "output_type": "stream",
     "text": [
      "C:\\Users\\slee7268\\Anaconda3\\lib\\site-packages\\ipykernel\\__main__.py:1: FutureWarning: \n",
      "The default value for 'return_type' will change to 'axes' in a future release.\n",
      " To use the future behavior now, set return_type='axes'.\n",
      " To keep the previous behavior and silence this warning, set return_type='dict'.\n",
      "  if __name__ == '__main__':\n"
     ]
    },
    {
     "data": {
      "text/plain": [
       "{'boxes': [<matplotlib.lines.Line2D at 0x241dcbb3b00>],\n",
       " 'caps': [<matplotlib.lines.Line2D at 0x241dccf36a0>,\n",
       "  <matplotlib.lines.Line2D at 0x241dccf37f0>],\n",
       " 'fliers': [<matplotlib.lines.Line2D at 0x241ebe98358>],\n",
       " 'means': [],\n",
       " 'medians': [<matplotlib.lines.Line2D at 0x241ebe98550>],\n",
       " 'whiskers': [<matplotlib.lines.Line2D at 0x241dcbb3278>,\n",
       "  <matplotlib.lines.Line2D at 0x241dcbb3828>]}"
      ]
     },
     "execution_count": 36,
     "metadata": {},
     "output_type": "execute_result"
    }
   ],
   "source": []
  },
  {
   "cell_type": "code",
   "execution_count": null,
   "metadata": {
    "collapsed": true
   },
   "outputs": [],
   "source": []
  }
 ],
 "metadata": {
  "anaconda-cloud": {},
  "kernelspec": {
   "display_name": "Python [conda root]",
   "language": "python",
   "name": "conda-root-py"
  },
  "language_info": {
   "codemirror_mode": {
    "name": "ipython",
    "version": 3
   },
   "file_extension": ".py",
   "mimetype": "text/x-python",
   "name": "python",
   "nbconvert_exporter": "python",
   "pygments_lexer": "ipython3",
   "version": "3.5.2"
  }
 },
 "nbformat": 4,
 "nbformat_minor": 1
}
